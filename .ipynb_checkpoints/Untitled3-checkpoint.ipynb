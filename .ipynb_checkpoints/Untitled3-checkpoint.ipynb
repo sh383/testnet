{
 "cells": [
  {
   "cell_type": "code",
   "execution_count": 1,
   "id": "67ac8291",
   "metadata": {},
   "outputs": [
    {
     "name": "stdout",
     "output_type": "stream",
     "text": [
      "Backtest results:\n",
      "-----------------\n",
      "Total profit: -175.25 USDT\n",
      "Number of trades: 26440\n",
      "Average time per trade: 0.00 seconds\n"
     ]
    }
   ],
   "source": [
    "import pandas as pd\n",
    "import numpy as np\n",
    "from datetime import datetime\n",
    "from time import time\n",
    "\n",
    "# Read the CSV file into a pandas DataFrame\n",
    "df = pd.read_csv('btcusdt_15m.csv')\n",
    "\n",
    "# Set the timestamp column as the index\n",
    "df.set_index('timestamp', inplace=True)\n",
    "\n",
    "# Define the trading parameters\n",
    "window_size = 10\n",
    "buy_threshold = 2.0\n",
    "sell_threshold = -2.0\n",
    "quantity = 0.001  # Replace with your own quantity\n",
    "\n",
    "# Define the initial state of the trading strategy\n",
    "position = None\n",
    "buy_price = None\n",
    "sell_price = None\n",
    "profit = 0.0\n",
    "trades = []\n",
    "\n",
    "# Define a function to calculate the moving average and standard deviation of a price series\n",
    "def calculate_stats(prices):\n",
    "    moving_average = np.convolve(prices, np.ones(window_size)/window_size, mode='valid')[-1]\n",
    "    standard_deviation = np.std(prices[-window_size:])\n",
    "    return moving_average, standard_deviation\n",
    "\n",
    "# Define a function to place a buy order\n",
    "def buy(timestamp, price):\n",
    "    global position, buy_price\n",
    "    order = {'timestamp': timestamp, 'side': 'buy', 'price': price, 'quantity': quantity}\n",
    "    trades.append(order)\n",
    "    position = 'long'\n",
    "    buy_price = price\n",
    "\n",
    "# Define a function to place a sell order\n",
    "def sell(timestamp, price):\n",
    "    global position, sell_price, profit\n",
    "    order = {'timestamp': timestamp, 'side': 'sell', 'price': price, 'quantity': quantity}\n",
    "    trades.append(order)\n",
    "    position = None\n",
    "    sell_price = price\n",
    "    profit += (sell_price - buy_price) * quantity\n",
    "\n",
    "# Loop through each row of the DataFrame and apply the trading strategy\n",
    "start_time = time()\n",
    "for index, row in df.iterrows():\n",
    "    price = row['close']\n",
    "    moving_average, standard_deviation = calculate_stats(df.loc[:index, 'close'].values)\n",
    "\n",
    "    if position == 'long':\n",
    "        if price > moving_average + sell_threshold * standard_deviation:\n",
    "            sell(index, price)\n",
    "    else:\n",
    "        if price < moving_average + buy_threshold * standard_deviation:\n",
    "            buy(index, price)\n",
    "\n",
    "# Print the results of the backtest\n",
    "end_time = time()\n",
    "print('Backtest results:')\n",
    "print('-----------------')\n",
    "print(f'Total profit: {profit:.2f} USDT')\n",
    "print(f'Number of trades: {len(trades)}')\n",
    "print(f'Average time per trade: {(end_time - start_time) / len(trades):.2f} seconds')\n"
   ]
  },
  {
   "cell_type": "code",
   "execution_count": null,
   "id": "184582f3",
   "metadata": {},
   "outputs": [],
   "source": []
  }
 ],
 "metadata": {
  "kernelspec": {
   "display_name": "Python 3 (ipykernel)",
   "language": "python",
   "name": "python3"
  },
  "language_info": {
   "codemirror_mode": {
    "name": "ipython",
    "version": 3
   },
   "file_extension": ".py",
   "mimetype": "text/x-python",
   "name": "python",
   "nbconvert_exporter": "python",
   "pygments_lexer": "ipython3",
   "version": "3.10.9"
  }
 },
 "nbformat": 4,
 "nbformat_minor": 5
}
